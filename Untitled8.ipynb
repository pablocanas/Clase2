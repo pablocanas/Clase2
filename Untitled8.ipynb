{
  "nbformat": 4,
  "nbformat_minor": 0,
  "metadata": {
    "colab": {
      "name": "Untitled8.ipynb",
      "version": "0.3.2",
      "provenance": [],
      "collapsed_sections": [],
      "include_colab_link": true
    },
    "kernelspec": {
      "name": "python3",
      "display_name": "Python 3"
    }
  },
  "cells": [
    {
      "cell_type": "markdown",
      "metadata": {
        "id": "view-in-github",
        "colab_type": "text"
      },
      "source": [
        "<a href=\"https://colab.research.google.com/github/pablocanas/Clase2/blob/master/Untitled8.ipynb\" target=\"_parent\"><img src=\"https://colab.research.google.com/assets/colab-badge.svg\" alt=\"Open In Colab\"/></a>"
      ]
    },
    {
      "cell_type": "code",
      "metadata": {
        "id": "5gQo-YHtqnXS",
        "colab_type": "code",
        "colab": {}
      },
      "source": [
        "import numpy as np\n",
        "from matplotlib import pyplot\n",
        "def ecuacionDeMovimiento(t, estado):\n",
        "    dif_vx = -(estado[0]/(((estado[0])**2 + estado[1]**2)**(3/2)))\n",
        "    dif_vy = -(estado[1]/(((estado[0])**2 + estado[1]**2)**(3/2)))\n",
        "    dif_x = estado[2]\n",
        "    dif_y = estado[3]\n",
        "    ec_movimiento = np.array([dif_x,dif_y,dif_vx,dif_vy])\n",
        "    return ec_movimiento\n",
        "\n",
        "\n",
        "def pasoEuler(ecMovimiento, dt, t, estado):\n",
        "    paso = np.zeros([4])\n",
        "    paso[2] = dt*ecMovimiento[2]\n",
        "    paso[3] = dt*ecMovimiento[3]\n",
        "    paso[0] = dt*estado[2]\n",
        "    paso[1] = dt*estado[3]\n",
        "    return paso\n",
        "    pass\n",
        "\n",
        "\n",
        "def pasoHeun(ecMovimiento, dt, t, estado):\n",
        "    \"\"\"\n",
        "    Calcula el paso para el método de Heun\n",
        "    \"\"\"\n",
        "    pass\n",
        "\n",
        "\n",
        "def pasoRK4(ecMovimiento, dt, t, estado):\n",
        "    \"\"\"\n",
        "    Calcula el paso para el método RK4\n",
        "    \"\"\"\n",
        "    pass\n",
        "\n",
        "\n",
        "def solveEuler(e0, ecMovimiento, dt, T):\n",
        "    \"\"\"\n",
        "    Recibe una condición inicial, la ecuación de movimiento, un paso dt\n",
        "    y un tiempo final.\n",
        "    Retorna la trayectoria del estado en los tiempos hasta T\n",
        "    Usa su respectiva función de paso (no lo calcule acá)\n",
        "    \"\"\"\n",
        "    N = T/dt\n",
        "    estados = np.zeros(N)\n",
        "    estados[0] = e0\n",
        "    for i in range(1,N):\n",
        "      estados[i] = estado[i-1] + pasoEuler(ecMovimiento,dt)\n",
        "      ecMovimiento = ecuacionDeMovimiento(t,estados[i])\n",
        "      \n",
        "    return estados\n",
        "\n",
        "\n",
        "def solveHeun(e0, ecMovimiento, dt, T):\n",
        "    \"\"\"\n",
        "    Recibe una condición inicial, la ecuación de movimiento, un paso dt\n",
        "    y un tiempo final.\n",
        "    Retorna la trayectoria del estado en los tiempos hasta T\n",
        "    Usa su respectiva función de paso (no lo calcule acá)\n",
        "    \"\"\"\n",
        "    pass\n",
        "\n",
        "\n",
        "def solveRK4(e0, ecMovimiento, dt, T):\n",
        "    \"\"\"\n",
        "    Recibe una condición inicial, la ecuación de movimiento, un paso dt\n",
        "    y un tiempo final.\n",
        "    Retorna la trayectoria del estado en los tiempos hasta T\n",
        "    Usa su respectiva función de paso (no lo calcule acá)\n",
        "    \"\"\"\n",
        "    pass\n",
        "\n",
        "\n",
        "def energiaTotal(x, y, vx, vy):\n",
        "    \"\"\"\n",
        "    Calcula la energía total del sistema en las condiciones actuales.\n",
        "    Retorna el valor de la energía total en el punto\n",
        "    \"\"\"\n",
        "    pass"
      ],
      "execution_count": 0,
      "outputs": []
    }
  ]
}
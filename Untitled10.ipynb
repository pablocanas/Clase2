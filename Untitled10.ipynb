{
  "nbformat": 4,
  "nbformat_minor": 0,
  "metadata": {
    "colab": {
      "name": "Untitled10.ipynb",
      "version": "0.3.2",
      "provenance": [],
      "include_colab_link": true
    },
    "kernelspec": {
      "name": "python3",
      "display_name": "Python 3"
    }
  },
  "cells": [
    {
      "cell_type": "markdown",
      "metadata": {
        "id": "view-in-github",
        "colab_type": "text"
      },
      "source": [
        "<a href=\"https://colab.research.google.com/github/pablocanas/Clase2/blob/master/Untitled10.ipynb\" target=\"_parent\"><img src=\"https://colab.research.google.com/assets/colab-badge.svg\" alt=\"Open In Colab\"/></a>"
      ]
    },
    {
      "cell_type": "code",
      "metadata": {
        "id": "Xj6Y5hDVVeIO",
        "colab_type": "code",
        "colab": {
          "base_uri": "https://localhost:8080/",
          "height": 514
        },
        "outputId": "0bebb50c-4f6d-4008-e4ca-6de95c6262a0"
      },
      "source": [
        "import numpy as np\n",
        "from matplotlib import pyplot\n",
        "import numpy as np\n",
        "from matplotlib import pyplot\n",
        "def ecuacionDeMovimiento(estado,t=0):\n",
        "    dif_vx = -(estado[0]/(((estado[0])**2 + estado[1]**2)**(3/2)))\n",
        "    dif_vy = -(estado[1]/(((estado[0])**2 + estado[1]**2)**(3/2)))\n",
        "    dif_x = estado[2]\n",
        "    dif_y = estado[3]\n",
        "    ec_movimiento = np.array([dif_x,dif_y,dif_vx,dif_vy])\n",
        "    return ec_movimiento\n",
        "\n",
        "\n",
        "def pasoEuler(ecMovimiento, dt, t=0):\n",
        "    paso = np.zeros([4])\n",
        "    print(estado[0])\n",
        "    print(estado[1])\n",
        "    paso[2] = dt*ecMovimiento[2]\n",
        "    paso[3] = dt*ecMovimiento[3]\n",
        "    paso[0] = dt*estado[2]\n",
        "    paso[1] = dt*estado[3]\n",
        "    return paso\n",
        "    pass\n",
        "def solveEuler(e0, ecMovimiento, dt, T):\n",
        "    \"\"\"\n",
        "    Recibe una condición inicial, la ecuación de movimiento, un paso dt\n",
        "    y un tiempo final.\n",
        "    Retorna la trayectoria del estado en los tiempos hasta T\n",
        "    Usa su respectiva función de paso (no lo calcule acá)\n",
        "    \"\"\"\n",
        "    N = int(T/dt)\n",
        "    estados = np.empty((N,4))\n",
        "    estados[0] = e0\n",
        "    for i in range(1,N):\n",
        "      estados[i] = estado[i-1] + pasoEuler(ecMovimiento,dt)\n",
        "      ecMovimiento = ecuacionDeMovimiento(estados[i])\n",
        "      \n",
        "    return estados\n",
        "estado = np.array([1,0,1,0])\n",
        "a = ecuacionDeMovimiento(estado)\n",
        "b = pasoEuler(a,0.2)\n",
        "e0 = np.array([0,0,0,0])\n",
        "c = solveEuler(e0,a,0.2,10)\n",
        "print(a)\n",
        "print(b)"
      ],
      "execution_count": 28,
      "outputs": [
        {
          "output_type": "stream",
          "text": [
            "1\n",
            "0\n",
            "1\n",
            "0\n",
            "1\n",
            "0\n",
            "1\n",
            "0\n",
            "1\n",
            "0\n"
          ],
          "name": "stdout"
        },
        {
          "output_type": "error",
          "ename": "IndexError",
          "evalue": "ignored",
          "traceback": [
            "\u001b[0;31m---------------------------------------------------------------------------\u001b[0m",
            "\u001b[0;31mIndexError\u001b[0m                                Traceback (most recent call last)",
            "\u001b[0;32m<ipython-input-28-78dbd5d1a5cf>\u001b[0m in \u001b[0;36m<module>\u001b[0;34m()\u001b[0m\n\u001b[1;32m     41\u001b[0m \u001b[0mb\u001b[0m \u001b[0;34m=\u001b[0m \u001b[0mpasoEuler\u001b[0m\u001b[0;34m(\u001b[0m\u001b[0ma\u001b[0m\u001b[0;34m,\u001b[0m\u001b[0;36m0.2\u001b[0m\u001b[0;34m)\u001b[0m\u001b[0;34m\u001b[0m\u001b[0;34m\u001b[0m\u001b[0m\n\u001b[1;32m     42\u001b[0m \u001b[0me0\u001b[0m \u001b[0;34m=\u001b[0m \u001b[0mnp\u001b[0m\u001b[0;34m.\u001b[0m\u001b[0marray\u001b[0m\u001b[0;34m(\u001b[0m\u001b[0;34m[\u001b[0m\u001b[0;36m0\u001b[0m\u001b[0;34m,\u001b[0m\u001b[0;36m0\u001b[0m\u001b[0;34m,\u001b[0m\u001b[0;36m0\u001b[0m\u001b[0;34m,\u001b[0m\u001b[0;36m0\u001b[0m\u001b[0;34m]\u001b[0m\u001b[0;34m)\u001b[0m\u001b[0;34m\u001b[0m\u001b[0;34m\u001b[0m\u001b[0m\n\u001b[0;32m---> 43\u001b[0;31m \u001b[0mc\u001b[0m \u001b[0;34m=\u001b[0m \u001b[0msolveEuler\u001b[0m\u001b[0;34m(\u001b[0m\u001b[0me0\u001b[0m\u001b[0;34m,\u001b[0m\u001b[0ma\u001b[0m\u001b[0;34m,\u001b[0m\u001b[0;36m0.2\u001b[0m\u001b[0;34m,\u001b[0m\u001b[0;36m10\u001b[0m\u001b[0;34m)\u001b[0m\u001b[0;34m\u001b[0m\u001b[0;34m\u001b[0m\u001b[0m\n\u001b[0m\u001b[1;32m     44\u001b[0m \u001b[0mprint\u001b[0m\u001b[0;34m(\u001b[0m\u001b[0ma\u001b[0m\u001b[0;34m)\u001b[0m\u001b[0;34m\u001b[0m\u001b[0;34m\u001b[0m\u001b[0m\n\u001b[1;32m     45\u001b[0m \u001b[0mprint\u001b[0m\u001b[0;34m(\u001b[0m\u001b[0mb\u001b[0m\u001b[0;34m)\u001b[0m\u001b[0;34m\u001b[0m\u001b[0;34m\u001b[0m\u001b[0m\n",
            "\u001b[0;32m<ipython-input-28-78dbd5d1a5cf>\u001b[0m in \u001b[0;36msolveEuler\u001b[0;34m(e0, ecMovimiento, dt, T)\u001b[0m\n\u001b[1;32m     33\u001b[0m     \u001b[0mestados\u001b[0m\u001b[0;34m[\u001b[0m\u001b[0;36m0\u001b[0m\u001b[0;34m]\u001b[0m \u001b[0;34m=\u001b[0m \u001b[0me0\u001b[0m\u001b[0;34m\u001b[0m\u001b[0;34m\u001b[0m\u001b[0m\n\u001b[1;32m     34\u001b[0m     \u001b[0;32mfor\u001b[0m \u001b[0mi\u001b[0m \u001b[0;32min\u001b[0m \u001b[0mrange\u001b[0m\u001b[0;34m(\u001b[0m\u001b[0;36m1\u001b[0m\u001b[0;34m,\u001b[0m\u001b[0mN\u001b[0m\u001b[0;34m)\u001b[0m\u001b[0;34m:\u001b[0m\u001b[0;34m\u001b[0m\u001b[0;34m\u001b[0m\u001b[0m\n\u001b[0;32m---> 35\u001b[0;31m       \u001b[0mestados\u001b[0m\u001b[0;34m[\u001b[0m\u001b[0mi\u001b[0m\u001b[0;34m]\u001b[0m \u001b[0;34m=\u001b[0m \u001b[0mestado\u001b[0m\u001b[0;34m[\u001b[0m\u001b[0mi\u001b[0m\u001b[0;34m-\u001b[0m\u001b[0;36m1\u001b[0m\u001b[0;34m]\u001b[0m \u001b[0;34m+\u001b[0m \u001b[0mpasoEuler\u001b[0m\u001b[0;34m(\u001b[0m\u001b[0mecMovimiento\u001b[0m\u001b[0;34m,\u001b[0m\u001b[0mdt\u001b[0m\u001b[0;34m)\u001b[0m\u001b[0;34m\u001b[0m\u001b[0;34m\u001b[0m\u001b[0m\n\u001b[0m\u001b[1;32m     36\u001b[0m       \u001b[0mecMovimiento\u001b[0m \u001b[0;34m=\u001b[0m \u001b[0mecuacionDeMovimiento\u001b[0m\u001b[0;34m(\u001b[0m\u001b[0mestados\u001b[0m\u001b[0;34m[\u001b[0m\u001b[0mi\u001b[0m\u001b[0;34m]\u001b[0m\u001b[0;34m)\u001b[0m\u001b[0;34m\u001b[0m\u001b[0;34m\u001b[0m\u001b[0m\n\u001b[1;32m     37\u001b[0m \u001b[0;34m\u001b[0m\u001b[0m\n",
            "\u001b[0;31mIndexError\u001b[0m: index 4 is out of bounds for axis 0 with size 4"
          ]
        }
      ]
    },
    {
      "cell_type": "code",
      "metadata": {
        "id": "P7sMAFYcZczf",
        "colab_type": "code",
        "colab": {}
      },
      "source": [
        ""
      ],
      "execution_count": 0,
      "outputs": []
    }
  ]
}
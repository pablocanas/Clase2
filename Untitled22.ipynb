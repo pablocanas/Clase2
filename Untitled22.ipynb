{
  "nbformat": 4,
  "nbformat_minor": 0,
  "metadata": {
    "colab": {
      "name": "Untitled22.ipynb",
      "version": "0.3.2",
      "provenance": [],
      "include_colab_link": true
    },
    "kernelspec": {
      "name": "python3",
      "display_name": "Python 3"
    }
  },
  "cells": [
    {
      "cell_type": "markdown",
      "metadata": {
        "id": "view-in-github",
        "colab_type": "text"
      },
      "source": [
        "<a href=\"https://colab.research.google.com/github/pablocanas/Clase2/blob/master/Untitled22.ipynb\" target=\"_parent\"><img src=\"https://colab.research.google.com/assets/colab-badge.svg\" alt=\"Open In Colab\"/></a>"
      ]
    },
    {
      "cell_type": "code",
      "metadata": {
        "id": "vELlf9U1bGKj",
        "colab_type": "code",
        "colab": {
          "base_uri": "https://localhost:8080/",
          "height": 418
        },
        "outputId": "aaf196dd-fafb-496a-cb6f-412c2f57864f"
      },
      "source": [
        "import numpy as np\n",
        "from matplotlib import pyplot\n",
        "def ecuacionDeMovimiento(estado,t=0):\n",
        "    dif_vx = -(estado[0]/(((estado[0])**2 + estado[1]**2)**(3/2)))\n",
        "    dif_vy = -(estado[1]/(((estado[0])**2 + estado[1]**2)**(3/2)))\n",
        "    dif_x = estado[2]\n",
        "    dif_y = estado[3]\n",
        "    ec_movimiento = np.array([dif_x,dif_y,dif_vx,dif_vy])\n",
        "    return ec_movimiento\n",
        "def pasoRK4(ecMovimiento, dt, t=0):\n",
        "    k1 = ecMovimiento\n",
        "    k2 = ecuacionDeMovimiento(estado + (dt/2)*k1)\n",
        "    k3 = ecuacionDeMovimiento(estado + (dt/2)*k2)\n",
        "    k4 = ecuacionDeMovimiento(estado + dt*k3)\n",
        "    k = k1 + 2*k2 + 2*k3 + k4\n",
        "    return (dt/6)*k\n",
        "    \n",
        "def solveRK4(e0, ecMovimiento, dt, T):\n",
        "    \"\"\"\n",
        "    Recibe una condición inicial, la ecuación de movimiento, un paso dt\n",
        "    y un tiempo final.\n",
        "    Retorna la trayectoria del estado en los tiempos hasta T\n",
        "    Usa su respectiva función de paso (no lo calcule acá)\n",
        "    \"\"\"\n",
        "    N = int(T/dt)\n",
        "    estados = np.empty((N,4))\n",
        "    estados[0] = e0\n",
        "    for i in range(1,N):\n",
        "      estados[i] = estados[i-1] + pasoRK4(ecMovimiento,dt)\n",
        "      ecMovimiento = ecuacionDeMovimiento(estados[i])\n",
        "    return estados\n",
        "estado = np.array([10.0,0,0,0.3])\n",
        "a = ecuacionDeMovimiento(estado)\n",
        "b = pasoRK4(a,0.06)\n",
        "e0 = np.array([10.0,0,0,0.3])\n",
        "c = solveRK4(e0,a,0.1,180)\n",
        "print(c)\n",
        "pyplot.plot(c[:,0],c[:,1])\n",
        "pyplot.xlabel('x')\n",
        "pyplot.ylabel('y')\n",
        "pyplot.axhline(0, color=\"black\")\n",
        "pyplot.axvline(0, color=\"black\")"
      ],
      "execution_count": 4,
      "outputs": [
        {
          "output_type": "stream",
          "text": [
            "[[ 1.00000000e+01  0.00000000e+00  0.00000000e+00  3.00000000e-01]\n",
            " [ 9.99995000e+00  2.99999500e-02 -9.99998833e-04  2.99998500e-01]\n",
            " [ 9.99988333e+00  5.99998250e-02 -2.00000042e-03  2.99996500e-01]\n",
            " ...\n",
            " [-1.38979487e+01  5.28107978e+01 -1.55410376e+00  2.45456346e-01]\n",
            " [-1.39238839e+01  5.28398881e+01 -1.55494091e+00  2.45449522e-01]\n",
            " [-1.39498330e+01  5.28689784e+01 -1.55577806e+00  2.45442706e-01]]\n"
          ],
          "name": "stdout"
        },
        {
          "output_type": "execute_result",
          "data": {
            "text/plain": [
              "<matplotlib.lines.Line2D at 0x7f1428d07f98>"
            ]
          },
          "metadata": {
            "tags": []
          },
          "execution_count": 4
        },
        {
          "output_type": "display_data",
          "data": {
            "image/png": "[encoded data removed]",
            "text/plain": [
              "<Figure size 432x288 with 1 Axes>"
            ]
          },
          "metadata": {
            "tags": []
          }
        }
      ]
    }
  ]
}